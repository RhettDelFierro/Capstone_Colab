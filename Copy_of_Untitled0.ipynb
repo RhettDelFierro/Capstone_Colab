{
  "nbformat": 4,
  "nbformat_minor": 0,
  "metadata": {
    "colab": {
      "provenance": [],
      "toc_visible": true,
      "authorship_tag": "ABX9TyMF25najzHa984C+7eKDGEF",
      "include_colab_link": true
    },
    "kernelspec": {
      "name": "python3",
      "display_name": "Python 3"
    },
    "language_info": {
      "name": "python"
    }
  },
  "cells": [
    {
      "cell_type": "markdown",
      "metadata": {
        "id": "view-in-github",
        "colab_type": "text"
      },
      "source": [
        "<a href=\"https://colab.research.google.com/github/RhettDelFierro/Capstone_Colab/blob/main/Copy_of_Untitled0.ipynb\" target=\"_parent\"><img src=\"https://colab.research.google.com/assets/colab-badge.svg\" alt=\"Open In Colab\"/></a>"
      ]
    },
    {
      "cell_type": "code",
      "source": [
        "!pip install anvil-uplink"
      ],
      "metadata": {
        "id": "_HXG3mA9CStm"
      },
      "execution_count": null,
      "outputs": []
    },
    {
      "cell_type": "code",
      "source": [
        "import numpy as np\n",
        "import pandas as pd\n",
        "import matplotlib.pyplot as plt\n",
        "from mpl_toolkits.mplot3d import Axes3D\n",
        "from sklearn.compose import ColumnTransformer\n",
        "from sklearn.preprocessing import OneHotEncoder, StandardScaler\n",
        "from sklearn.pipeline import Pipeline\n",
        "from sklearn.model_selection import train_test_split\n",
        "from sklearn.linear_model import LinearRegression\n",
        "from sklearn.metrics import mean_absolute_error\n",
        "from joblib import dump, load\n",
        "from sklearn.ensemble import RandomForestRegressor\n",
        "import ipywidgets as widgets\n",
        "from IPython.display import display\n",
        "import anvil.server\n",
        "\n",
        "anvil.server.connect(\"server_QHVYEBX4UOVRLUJP7RX6OGS6-ZMKP3JIS4D2XCZ44\")"
      ],
      "metadata": {
        "id": "ztesuj9Lo7zR"
      },
      "execution_count": null,
      "outputs": []
    },
    {
      "cell_type": "markdown",
      "source": [
        "### Load data."
      ],
      "metadata": {
        "id": "MQMBEJ4ppNCN"
      }
    },
    {
      "cell_type": "code",
      "source": [
        "data = pd.read_csv(\"./[pruned fine][ready]combined_games_with_corrected_travel_and_last_game.csv\")\n",
        "print(data.sample(10).to_markdown())"
      ],
      "metadata": {
        "id": "FyRv0GpxpRKO"
      },
      "execution_count": null,
      "outputs": []
    },
    {
      "cell_type": "markdown",
      "source": [
        "Handle missing values for 'Degrees', 'Humidity', and 'Wind'"
      ],
      "metadata": {
        "id": "wqdz6xZKpqDO"
      }
    },
    {
      "cell_type": "code",
      "source": [
        "# Preprocess the data\n",
        "for column, value in zip(['Degrees', 'Humidity', 'Wind'], [68, 40, 0]):\n",
        "    data.loc[(data[column].isna()) & ((data['Roof'] == 'outdoors') | (data['Roof'] == 'retractable roof (open)')), column] = data[column].mean()\n",
        "    data.loc[(data[column].isna()), column] = value\n",
        "data['Line'].fillna(0.0, inplace=True)\n",
        "data['Favorite'].fillna('pick', inplace=True)\n",
        "data['Turf'] = data['Turf'].apply(lambda x: 'turf' if x != 'grass' else 'grass')\n"
      ],
      "metadata": {
        "id": "-3zq2rr2puMj"
      },
      "execution_count": null,
      "outputs": []
    },
    {
      "cell_type": "markdown",
      "source": [
        "### Identify numerical and categorical columns, then process them."
      ],
      "metadata": {
        "id": "uUHvjIuMqEY3"
      }
    },
    {
      "cell_type": "code",
      "source": [
        "# Prepare for one-hot encoding\n",
        "categorical_features = ['Home Team', 'Away Team', 'Turf', 'Favorite', 'Roof', 'LastGameAway', 'NextGameAway']\n",
        "numeric_features = data.drop(columns=categorical_features+['Point Differential']).columns.tolist()\n",
        "\n",
        "# Construct preprocessing pipelines\n",
        "numeric_transformer = Pipeline(steps=[('scaler', StandardScaler())])\n",
        "categorical_transformer = Pipeline(steps=[('onehot', OneHotEncoder(handle_unknown='ignore'))])\n",
        "preprocessor = ColumnTransformer(\n",
        "    transformers=[\n",
        "        ('num', numeric_transformer, numeric_features),\n",
        "        ('cat', categorical_transformer, categorical_features)])\n",
        "\n",
        "# Apply transformations\n",
        "X = data.drop(columns=['Point Differential'])\n",
        "y = data['Point Differential']\n",
        "X = preprocessor.fit_transform(X)\n",
        "\n"
      ],
      "metadata": {
        "id": "r6-KQ93qqNJ3"
      },
      "execution_count": null,
      "outputs": []
    },
    {
      "cell_type": "markdown",
      "source": [
        "### Apply machine learning training and testing."
      ],
      "metadata": {
        "id": "1w_8Dx1Dq7nS"
      }
    },
    {
      "cell_type": "code",
      "source": [
        "# Split the data into training and test sets\n",
        "X_train, X_test, y_train, y_test = train_test_split(X, y, test_size=0.2, random_state=42)\n",
        "\n",
        "# Train a Linear Regression model\n",
        "model = LinearRegression()\n",
        "model.fit(X_train, y_train)\n",
        "\n",
        "# Save the trained model and preprocessing pipeline\n",
        "dump(model, 'model.joblib')\n",
        "dump(preprocessor, 'preprocessor.joblib')"
      ],
      "metadata": {
        "id": "FBz6-BB-rE7G"
      },
      "execution_count": null,
      "outputs": []
    },
    {
      "cell_type": "markdown",
      "source": [
        "Plot graphs."
      ],
      "metadata": {
        "id": "Q0MtOZ86rQBe"
      }
    },
    {
      "cell_type": "code",
      "source": [
        "# Scatter plot of actual vs predicted values\n",
        "y_pred_test = model.predict(X_test)\n",
        "plt.figure(figsize=(8, 6))\n",
        "plt.scatter(y_test, y_pred_test, alpha=0.5)\n",
        "plt.plot([-50, 50], [-50, 50], color='red')  # Line where predicted = actual\n",
        "plt.title('Actual vs Predicted Point Differential')\n",
        "plt.xlabel('Actual')\n",
        "plt.ylabel('Predicted')\n",
        "plt.grid(True)\n",
        "plt.show()\n",
        "\n",
        "# Bar plot of Average Point Differential by Roof Type\n",
        "avg_diff_by_roof = data.groupby('Roof')['Point Differential'].mean()\n",
        "plt.figure(figsize=(8, 6))\n",
        "avg_diff_by_roof.plot(kind='bar', color='skyblue')\n",
        "plt.title('Average Point Differential by Roof Type')\n",
        "plt.xlabel('Roof Type')\n",
        "plt.ylabel('Average Point Differential')\n",
        "plt.grid(True)\n",
        "plt.show()\n",
        "\n",
        "# Histogram of 'Point Differential'\n",
        "plt.figure(figsize=(8, 6))\n",
        "plt.hist(data['Point Differential'], bins=50, color='skyblue', edgecolor='black')\n",
        "plt.title('Histogram of Point Differential')\n",
        "plt.xlabel('Point Differential')\n",
        "plt.ylabel('Frequency')\n",
        "plt.grid(True)\n",
        "plt.show()\n",
        "\n",
        "# 3D scatter plot of 'Point Differential', 'Week', and 'DistanceTravelledByAwayTeam'\n",
        "fig = plt.figure(figsize=(10, 8))\n",
        "ax = fig.add_subplot(111, projection='3d')\n",
        "scatter = ax.scatter(data['Week'], data['DistanceTravelledByAwayTeam'], data['Point Differential'],\n",
        "                     c=data['Point Differential'], cmap='coolwarm')\n",
        "ax.set_title('Point Differential vs Week and Distance Travelled by Away Team')\n",
        "ax.set_xlabel('Week')\n",
        "ax.set_ylabel('Distance Travelled by Away Team')\n",
        "ax.set_zlabel('Point Differential')\n",
        "# Set the viewing angle\n",
        "ax.view_init(elev=20, azim=45)\n",
        "plt.colorbar(scatter, label='Point Differential')\n",
        "plt.show()\n"
      ],
      "metadata": {
        "id": "6wrPgxGhrRX3"
      },
      "execution_count": null,
      "outputs": []
    },
    {
      "cell_type": "markdown",
      "source": [
        "Function to use as an interface."
      ],
      "metadata": {
        "id": "EwJtvLdg0WSk"
      }
    },
    {
      "cell_type": "code",
      "source": [
        "def predict_point_differential(features_df):\n",
        "    \"\"\"\n",
        "    Predict the point differential for a game.\n",
        "\n",
        "    Args:\n",
        "    features_df (pd.DataFrame): A DataFrame with the same structure as the original data, excluding the 'Point Differential' column.\n",
        "\n",
        "    Returns:\n",
        "    float: The predicted point differential.\n",
        "    \"\"\"\n",
        "    # Load the trained model and preprocessing pipeline\n",
        "    model = load('model.joblib')\n",
        "    preprocessor = load('preprocessor.joblib')\n",
        "\n",
        "    # Preprocess the input in the same way as the training data\n",
        "    features_df['Turf'] = features_df['Turf'].apply(lambda x: 'turf' if x != 'grass' else 'grass')\n",
        "    for column, value in zip(['Degrees', 'Humidity', 'Wind'], [68, 40, 0]):\n",
        "        features_df.loc[(features_df[column].isna()) & ((features_df['Roof'] == 'outdoors') | (features_df['Roof'] == 'retractable roof (open)')), column] = data[column].mean()\n",
        "        features_df.loc[(features_df[column].isna()), column] = value\n",
        "    features_df['Line'].fillna(0.0, inplace=True)\n",
        "    features_df['Favorite'].fillna('pick', inplace=True)\n",
        "    features_transformed = preprocessor.transform(features_df)\n",
        "\n",
        "    # Use the trained model to make a prediction\n",
        "    prediction = model.predict(features_transformed)\n",
        "\n",
        "    return prediction[0]\n",
        "\n",
        "@anvil.server.callable\n",
        "def predict(week,\n",
        "            home_team_dropdown,\n",
        "            away_team_dropdown,\n",
        "            favorite_dropdown,\n",
        "            line_input,\n",
        "            roof_dropdown,\n",
        "            turf_dropdown,\n",
        "            degrees_text,\n",
        "            humidity_text,\n",
        "            wind_text,\n",
        "            preseason_rank_home_dropdown,\n",
        "            preseason_rank_away_dropdown,\n",
        "            current_rank_home_dropdown,\n",
        "            current_rank_away_dropdown,\n",
        "            distance_text,\n",
        "            last_game_away_dropdown,\n",
        "            next_game_away_dropdown\n",
        "            ):\n",
        "  print(degrees_text)\n",
        "  print(last_game_away_dropdown)\n",
        "  features_df = pd.DataFrame({\n",
        "      'Week': [week],\n",
        "      'Home Team': [home_team_dropdown],\n",
        "      'Away Team': [away_team_dropdown],\n",
        "      'Favorite': [favorite_dropdown],\n",
        "      'Line': [line_input],\n",
        "      'Roof': [roof_dropdown],\n",
        "      'Turf': [turf_dropdown],\n",
        "      'Degrees': [degrees_text],\n",
        "      'Humidity': [humidity_text],\n",
        "      'Wind': [wind_text],\n",
        "      'PreseasonRankingHome': [preseason_rank_home_dropdown],\n",
        "      'PreseasonRankingAway': [preseason_rank_away_dropdown],\n",
        "      'HomeEndOfSeasonRanking': [current_rank_home_dropdown],\n",
        "      'AwayEndOfSeasonRanking': [current_rank_away_dropdown],\n",
        "      'DistanceTravelledByAwayTeam': [distance_text],\n",
        "      'LastGameAway': [last_game_away_dropdown],\n",
        "      'NextGameAway': [next_game_away_dropdown],\n",
        "  }, index=[0])\n",
        "\n",
        "#   features_original = pd.DataFrame({\n",
        "#       'Week': [10],\n",
        "#       'Home Team': ['Dallas Cowboys'],\n",
        "#       'Away Team': ['New York Giants'],\n",
        "#       'Favorite': ['Dallas Cowboys'],\n",
        "#       'Line': [-3.0],\n",
        "#       'Roof': ['retractable roof (open)'],\n",
        "#       'Turf': ['turf'],\n",
        "#       'Degrees': [75.0],\n",
        "#       'Humidity': [50.0],\n",
        "#       'Wind': [10.0],\n",
        "#       'PreseasonRankingHome': [30],\n",
        "#       'PreseasonRankingAway': [10],\n",
        "#       'HomeEndOfSeasonRanking': [20],\n",
        "#       'AwayEndOfSeasonRanking': [10],\n",
        "#       'DistanceTravelledByAwayTeam': [3000],\n",
        "#       'LastGameAway': [False],\n",
        "#       'NextGameAway': [True],\n",
        "#   }, index=[0])\n",
        "\n",
        "  prediction = predict_point_differential(features_df)\n",
        "  print('Predicted point differential:', prediction)\n",
        "  return prediction\n"
      ],
      "metadata": {
        "id": "4by9sAJl0cMM"
      },
      "execution_count": null,
      "outputs": []
    },
    {
      "cell_type": "code",
      "source": [
        "anvil.server.wait_forever()"
      ],
      "metadata": {
        "colab": {
          "base_uri": "https://localhost:8080/"
        },
        "id": "rjYqVLzBNOrL",
        "outputId": "9089a478-9aee-4250-b78e-d906f1e6a6a7"
      },
      "execution_count": null,
      "outputs": [
        {
          "output_type": "stream",
          "name": "stdout",
          "text": [
            "None\n",
            "True\n",
            "70\n",
            "True\n",
            "Predicted point differential: 30.602359155017293\n",
            "70\n",
            "True\n",
            "Predicted point differential: 18.636260907254833\n",
            "70\n",
            "True\n",
            "Predicted point differential: 15.787189895882818\n",
            "70\n",
            "True\n",
            "Predicted point differential: 14.454904116208578\n",
            "70\n",
            "True\n",
            "Predicted point differential: 12.591736227115263\n",
            "70\n",
            "True\n",
            "Predicted point differential: 14.408099724160792\n",
            "70\n",
            "True\n",
            "Predicted point differential: 3.6637256934394573\n",
            "70\n",
            "True\n",
            "Predicted point differential: -3.4239928185690323\n"
          ]
        }
      ]
    },
    {
      "cell_type": "markdown",
      "source": [
        "### Interaction"
      ],
      "metadata": {
        "id": "9MUp-JE2VYl0"
      }
    },
    {
      "cell_type": "code",
      "source": [],
      "metadata": {
        "id": "_LksiWN4Vbk8"
      },
      "execution_count": null,
      "outputs": []
    }
  ]
}